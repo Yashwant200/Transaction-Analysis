{
 "cells": [
  {
   "cell_type": "markdown",
   "id": "fbde1bde-9189-465b-9cb8-277035744f1a",
   "metadata": {},
   "source": [
    "# Transaction Analysis"
   ]
  },
  {
   "cell_type": "code",
   "execution_count": 1,
   "id": "ed62018e-276d-4622-bf3c-974952b0435d",
   "metadata": {},
   "outputs": [],
   "source": [
    "import numpy as np\n",
    "import pandas as pd\n",
    "import seaborn as sns\n",
    "import matplotlib.pyplot as plt\n",
    "from glob import glob\n",
    "import warnings\n",
    "warnings.simplefilter(action='ignore')\n",
    "import datetime"
   ]
  },
  {
   "cell_type": "markdown",
   "id": "bb537391-f8ca-41d3-a782-84ad268016c8",
   "metadata": {},
   "source": [
    "## Gathering File and marge"
   ]
  },
  {
   "cell_type": "code",
   "execution_count": 2,
   "id": "9861b7dd-0a96-4722-8b1e-3cf6b7db2ff0",
   "metadata": {},
   "outputs": [
    {
     "data": {
      "text/plain": [
       "['C:/Users/Yashwant Lohande/Desktop/my own pactice/Transaction Analysis/d2\\\\21 2.csv',\n",
       " 'C:/Users/Yashwant Lohande/Desktop/my own pactice/Transaction Analysis/d2\\\\22 1.csv',\n",
       " 'C:/Users/Yashwant Lohande/Desktop/my own pactice/Transaction Analysis/d2\\\\22 2.csv',\n",
       " 'C:/Users/Yashwant Lohande/Desktop/my own pactice/Transaction Analysis/d2\\\\23 1.csv',\n",
       " 'C:/Users/Yashwant Lohande/Desktop/my own pactice/Transaction Analysis/d2\\\\23 2.csv',\n",
       " 'C:/Users/Yashwant Lohande/Desktop/my own pactice/Transaction Analysis/d2\\\\24 1.csv']"
      ]
     },
     "execution_count": 2,
     "metadata": {},
     "output_type": "execute_result"
    }
   ],
   "source": [
    "data_file =  sorted(glob(\"C:/Users/Yashwant Lohande/Desktop/my own pactice/Transaction Analysis/d2/*.csv\"))\n",
    "data_file"
   ]
  },
  {
   "cell_type": "code",
   "execution_count": 3,
   "id": "79c5c9d5-0fc9-49aa-a51f-e7f33a69025f",
   "metadata": {},
   "outputs": [],
   "source": [
    "df = pd.concat((pd.read_csv(data_file)for data_file in data_file), ignore_index = True)"
   ]
  },
  {
   "cell_type": "code",
   "execution_count": 5,
   "id": "138eb756-8722-49c4-b5bb-a380f59f96e6",
   "metadata": {},
   "outputs": [],
   "source": [
    "df = pd.DataFrame(df)"
   ]
  },
  {
   "cell_type": "code",
   "execution_count": 6,
   "id": "d71e9ce6-eb0b-411e-996c-4295a7bb4af8",
   "metadata": {},
   "outputs": [
    {
     "data": {
      "text/html": [
       "<div>\n",
       "<style scoped>\n",
       "    .dataframe tbody tr th:only-of-type {\n",
       "        vertical-align: middle;\n",
       "    }\n",
       "\n",
       "    .dataframe tbody tr th {\n",
       "        vertical-align: top;\n",
       "    }\n",
       "\n",
       "    .dataframe thead th {\n",
       "        text-align: right;\n",
       "    }\n",
       "</style>\n",
       "<table border=\"1\" class=\"dataframe\">\n",
       "  <thead>\n",
       "    <tr style=\"text-align: right;\">\n",
       "      <th></th>\n",
       "      <th>DATE</th>\n",
       "      <th>TRANSACTION PARTICULARS</th>\n",
       "      <th>WITHDRWAL</th>\n",
       "      <th>DEPOSIT</th>\n",
       "      <th>BALANCE</th>\n",
       "      <th>TRAN ID</th>\n",
       "    </tr>\n",
       "  </thead>\n",
       "  <tbody>\n",
       "    <tr>\n",
       "      <th>0</th>\n",
       "      <td>25-10-2021</td>\n",
       "      <td>Initial Cash Deposit</td>\n",
       "      <td>NaN</td>\n",
       "      <td>100.0</td>\n",
       "      <td>100.00</td>\n",
       "      <td>NaN</td>\n",
       "    </tr>\n",
       "    <tr>\n",
       "      <th>1</th>\n",
       "      <td>26-10-2021</td>\n",
       "      <td>TRANSFER -FROM 033410154051</td>\n",
       "      <td>NaN</td>\n",
       "      <td>10.0</td>\n",
       "      <td>110.00</td>\n",
       "      <td>NaN</td>\n",
       "    </tr>\n",
       "    <tr>\n",
       "      <th>2</th>\n",
       "      <td>26-10-2021</td>\n",
       "      <td>TRANSFER -TO 033410154051</td>\n",
       "      <td>10.0</td>\n",
       "      <td>NaN</td>\n",
       "      <td>100.00</td>\n",
       "      <td>NaN</td>\n",
       "    </tr>\n",
       "    <tr>\n",
       "      <th>3</th>\n",
       "      <td>29-10-2021</td>\n",
       "      <td>TRANSFER -FROM 033410113232</td>\n",
       "      <td>NaN</td>\n",
       "      <td>25.0</td>\n",
       "      <td>125.00</td>\n",
       "      <td>NaN</td>\n",
       "    </tr>\n",
       "    <tr>\n",
       "      <th>4</th>\n",
       "      <td>30-10-2021</td>\n",
       "      <td>Virtual Debit Card Issuance Fee 30/10/2021</td>\n",
       "      <td>25.0</td>\n",
       "      <td>NaN</td>\n",
       "      <td>100.00</td>\n",
       "      <td>NaN</td>\n",
       "    </tr>\n",
       "    <tr>\n",
       "      <th>...</th>\n",
       "      <td>...</td>\n",
       "      <td>...</td>\n",
       "      <td>...</td>\n",
       "      <td>...</td>\n",
       "      <td>...</td>\n",
       "      <td>...</td>\n",
       "    </tr>\n",
       "    <tr>\n",
       "      <th>292</th>\n",
       "      <td>21-05-2024</td>\n",
       "      <td>UPI~414206530348~DR~YASHWANT A~IPOS~Gaurav pan...</td>\n",
       "      <td>16.0</td>\n",
       "      <td>NaN</td>\n",
       "      <td>524.53</td>\n",
       "      <td>NaN</td>\n",
       "    </tr>\n",
       "    <tr>\n",
       "      <th>293</th>\n",
       "      <td>22-05-2024</td>\n",
       "      <td>UPI~450973141313~DR~YASHWANT A~IPOS~Mrs  TARA ...</td>\n",
       "      <td>19.0</td>\n",
       "      <td>NaN</td>\n",
       "      <td>505.53</td>\n",
       "      <td>NaN</td>\n",
       "    </tr>\n",
       "    <tr>\n",
       "      <th>294</th>\n",
       "      <td>24-05-2024</td>\n",
       "      <td>UPI~414599574733~DR~YASHWANT A~IPOS~Mr  DINESH...</td>\n",
       "      <td>30.0</td>\n",
       "      <td>NaN</td>\n",
       "      <td>475.53</td>\n",
       "      <td>NaN</td>\n",
       "    </tr>\n",
       "    <tr>\n",
       "      <th>295</th>\n",
       "      <td>25-05-2024</td>\n",
       "      <td>UPI~414665513545~DR~YASHWANT A~IPOS~Mrs  TARA ...</td>\n",
       "      <td>15.0</td>\n",
       "      <td>NaN</td>\n",
       "      <td>460.53</td>\n",
       "      <td>NaN</td>\n",
       "    </tr>\n",
       "    <tr>\n",
       "      <th>296</th>\n",
       "      <td>26-05-2024</td>\n",
       "      <td>UPI~414732254419~DR~YASHWANT A~IPOS~Gaurav Ram...</td>\n",
       "      <td>16.0</td>\n",
       "      <td>NaN</td>\n",
       "      <td>444.53</td>\n",
       "      <td>NaN</td>\n",
       "    </tr>\n",
       "  </tbody>\n",
       "</table>\n",
       "<p>297 rows × 6 columns</p>\n",
       "</div>"
      ],
      "text/plain": [
       "           DATE                            TRANSACTION PARTICULARS  WITHDRWAL  \\\n",
       "0    25-10-2021                               Initial Cash Deposit        NaN   \n",
       "1    26-10-2021                        TRANSFER -FROM 033410154051        NaN   \n",
       "2    26-10-2021                          TRANSFER -TO 033410154051       10.0   \n",
       "3    29-10-2021                        TRANSFER -FROM 033410113232        NaN   \n",
       "4    30-10-2021         Virtual Debit Card Issuance Fee 30/10/2021       25.0   \n",
       "..          ...                                                ...        ...   \n",
       "292  21-05-2024  UPI~414206530348~DR~YASHWANT A~IPOS~Gaurav pan...       16.0   \n",
       "293  22-05-2024  UPI~450973141313~DR~YASHWANT A~IPOS~Mrs  TARA ...       19.0   \n",
       "294  24-05-2024  UPI~414599574733~DR~YASHWANT A~IPOS~Mr  DINESH...       30.0   \n",
       "295  25-05-2024  UPI~414665513545~DR~YASHWANT A~IPOS~Mrs  TARA ...       15.0   \n",
       "296  26-05-2024  UPI~414732254419~DR~YASHWANT A~IPOS~Gaurav Ram...       16.0   \n",
       "\n",
       "     DEPOSIT  BALANCE TRAN ID  \n",
       "0      100.0   100.00     NaN  \n",
       "1       10.0   110.00     NaN  \n",
       "2        NaN   100.00     NaN  \n",
       "3       25.0   125.00     NaN  \n",
       "4        NaN   100.00     NaN  \n",
       "..       ...      ...     ...  \n",
       "292      NaN   524.53     NaN  \n",
       "293      NaN   505.53     NaN  \n",
       "294      NaN   475.53     NaN  \n",
       "295      NaN   460.53     NaN  \n",
       "296      NaN   444.53     NaN  \n",
       "\n",
       "[297 rows x 6 columns]"
      ]
     },
     "execution_count": 6,
     "metadata": {},
     "output_type": "execute_result"
    }
   ],
   "source": [
    "df"
   ]
  },
  {
   "cell_type": "code",
   "execution_count": 7,
   "id": "44b14264-3f2d-46bc-b307-52d023c975f9",
   "metadata": {},
   "outputs": [
    {
     "data": {
      "text/html": [
       "<div>\n",
       "<style scoped>\n",
       "    .dataframe tbody tr th:only-of-type {\n",
       "        vertical-align: middle;\n",
       "    }\n",
       "\n",
       "    .dataframe tbody tr th {\n",
       "        vertical-align: top;\n",
       "    }\n",
       "\n",
       "    .dataframe thead th {\n",
       "        text-align: right;\n",
       "    }\n",
       "</style>\n",
       "<table border=\"1\" class=\"dataframe\">\n",
       "  <thead>\n",
       "    <tr style=\"text-align: right;\">\n",
       "      <th></th>\n",
       "      <th>DATE</th>\n",
       "      <th>TRANSACTION PARTICULARS</th>\n",
       "      <th>WITHDRWAL</th>\n",
       "      <th>DEPOSIT</th>\n",
       "      <th>BALANCE</th>\n",
       "      <th>TRAN ID</th>\n",
       "    </tr>\n",
       "  </thead>\n",
       "  <tbody>\n",
       "    <tr>\n",
       "      <th>0</th>\n",
       "      <td>25-10-2021</td>\n",
       "      <td>Initial Cash Deposit</td>\n",
       "      <td>NaN</td>\n",
       "      <td>100.0</td>\n",
       "      <td>100.0</td>\n",
       "      <td>NaN</td>\n",
       "    </tr>\n",
       "    <tr>\n",
       "      <th>1</th>\n",
       "      <td>26-10-2021</td>\n",
       "      <td>TRANSFER -FROM 033410154051</td>\n",
       "      <td>NaN</td>\n",
       "      <td>10.0</td>\n",
       "      <td>110.0</td>\n",
       "      <td>NaN</td>\n",
       "    </tr>\n",
       "    <tr>\n",
       "      <th>2</th>\n",
       "      <td>26-10-2021</td>\n",
       "      <td>TRANSFER -TO 033410154051</td>\n",
       "      <td>10.0</td>\n",
       "      <td>NaN</td>\n",
       "      <td>100.0</td>\n",
       "      <td>NaN</td>\n",
       "    </tr>\n",
       "    <tr>\n",
       "      <th>3</th>\n",
       "      <td>29-10-2021</td>\n",
       "      <td>TRANSFER -FROM 033410113232</td>\n",
       "      <td>NaN</td>\n",
       "      <td>25.0</td>\n",
       "      <td>125.0</td>\n",
       "      <td>NaN</td>\n",
       "    </tr>\n",
       "    <tr>\n",
       "      <th>4</th>\n",
       "      <td>30-10-2021</td>\n",
       "      <td>Virtual Debit Card Issuance Fee 30/10/2021</td>\n",
       "      <td>25.0</td>\n",
       "      <td>NaN</td>\n",
       "      <td>100.0</td>\n",
       "      <td>NaN</td>\n",
       "    </tr>\n",
       "    <tr>\n",
       "      <th>5</th>\n",
       "      <td>06-11-2021</td>\n",
       "      <td>UPI~131078400740~DR~YASHWANT A~IPOS~8208491270...</td>\n",
       "      <td>1.0</td>\n",
       "      <td>NaN</td>\n",
       "      <td>99.0</td>\n",
       "      <td>NaN</td>\n",
       "    </tr>\n",
       "    <tr>\n",
       "      <th>6</th>\n",
       "      <td>06-11-2021</td>\n",
       "      <td>UPI~131067238306~CR~OM SUNIL I~IPOS~8806393517...</td>\n",
       "      <td>NaN</td>\n",
       "      <td>1.0</td>\n",
       "      <td>100.0</td>\n",
       "      <td>NaN</td>\n",
       "    </tr>\n",
       "    <tr>\n",
       "      <th>7</th>\n",
       "      <td>06-11-2021</td>\n",
       "      <td>UPI~131047102692~DR~YASHWANT A~IPOS~yashwante1...</td>\n",
       "      <td>1.0</td>\n",
       "      <td>NaN</td>\n",
       "      <td>99.0</td>\n",
       "      <td>NaN</td>\n",
       "    </tr>\n",
       "    <tr>\n",
       "      <th>8</th>\n",
       "      <td>06-11-2021</td>\n",
       "      <td>UPI~131073736256~CR~KSHITIJ SU~IPOS~atramkshit...</td>\n",
       "      <td>NaN</td>\n",
       "      <td>2.0</td>\n",
       "      <td>101.0</td>\n",
       "      <td>NaN</td>\n",
       "    </tr>\n",
       "    <tr>\n",
       "      <th>9</th>\n",
       "      <td>09-11-2021</td>\n",
       "      <td>APBCR-GEN-Credit Through PFMS-C112108436067</td>\n",
       "      <td>NaN</td>\n",
       "      <td>650.0</td>\n",
       "      <td>751.0</td>\n",
       "      <td>NaN</td>\n",
       "    </tr>\n",
       "    <tr>\n",
       "      <th>10</th>\n",
       "      <td>18-11-2021</td>\n",
       "      <td>UPI~132258795416~CR~ANKUSH PAN~BKID~8805765082...</td>\n",
       "      <td>NaN</td>\n",
       "      <td>600.0</td>\n",
       "      <td>1351.0</td>\n",
       "      <td>NaN</td>\n",
       "    </tr>\n",
       "  </tbody>\n",
       "</table>\n",
       "</div>"
      ],
      "text/plain": [
       "          DATE                            TRANSACTION PARTICULARS  WITHDRWAL  \\\n",
       "0   25-10-2021                               Initial Cash Deposit        NaN   \n",
       "1   26-10-2021                        TRANSFER -FROM 033410154051        NaN   \n",
       "2   26-10-2021                          TRANSFER -TO 033410154051       10.0   \n",
       "3   29-10-2021                        TRANSFER -FROM 033410113232        NaN   \n",
       "4   30-10-2021         Virtual Debit Card Issuance Fee 30/10/2021       25.0   \n",
       "5   06-11-2021  UPI~131078400740~DR~YASHWANT A~IPOS~8208491270...        1.0   \n",
       "6   06-11-2021  UPI~131067238306~CR~OM SUNIL I~IPOS~8806393517...        NaN   \n",
       "7   06-11-2021  UPI~131047102692~DR~YASHWANT A~IPOS~yashwante1...        1.0   \n",
       "8   06-11-2021  UPI~131073736256~CR~KSHITIJ SU~IPOS~atramkshit...        NaN   \n",
       "9   09-11-2021        APBCR-GEN-Credit Through PFMS-C112108436067        NaN   \n",
       "10  18-11-2021  UPI~132258795416~CR~ANKUSH PAN~BKID~8805765082...        NaN   \n",
       "\n",
       "    DEPOSIT  BALANCE TRAN ID  \n",
       "0     100.0    100.0     NaN  \n",
       "1      10.0    110.0     NaN  \n",
       "2       NaN    100.0     NaN  \n",
       "3      25.0    125.0     NaN  \n",
       "4       NaN    100.0     NaN  \n",
       "5       NaN     99.0     NaN  \n",
       "6       1.0    100.0     NaN  \n",
       "7       NaN     99.0     NaN  \n",
       "8       2.0    101.0     NaN  \n",
       "9     650.0    751.0     NaN  \n",
       "10    600.0   1351.0     NaN  "
      ]
     },
     "execution_count": 7,
     "metadata": {},
     "output_type": "execute_result"
    }
   ],
   "source": [
    "df.head(11)"
   ]
  },
  {
   "cell_type": "code",
   "execution_count": 8,
   "id": "23dd2496-561e-4e6c-bb06-eafce91e8c6d",
   "metadata": {},
   "outputs": [
    {
     "data": {
      "text/plain": [
       "(297, 6)"
      ]
     },
     "execution_count": 8,
     "metadata": {},
     "output_type": "execute_result"
    }
   ],
   "source": [
    "df.shape"
   ]
  },
  {
   "cell_type": "code",
   "execution_count": 9,
   "id": "a6946caa-0f97-4aa5-87b9-6c2679595ee5",
   "metadata": {},
   "outputs": [
    {
     "data": {
      "text/plain": [
       "DATE                        object\n",
       "TRANSACTION PARTICULARS     object\n",
       "WITHDRWAL                  float64\n",
       "DEPOSIT                    float64\n",
       "BALANCE                    float64\n",
       "TRAN ID                     object\n",
       "dtype: object"
      ]
     },
     "execution_count": 9,
     "metadata": {},
     "output_type": "execute_result"
    }
   ],
   "source": [
    "df.dtypes"
   ]
  },
  {
   "cell_type": "code",
   "execution_count": 10,
   "id": "839d4f3c-1e14-44ad-bde9-f9e44159e7ba",
   "metadata": {},
   "outputs": [
    {
     "name": "stdout",
     "output_type": "stream",
     "text": [
      "<class 'pandas.core.frame.DataFrame'>\n",
      "RangeIndex: 297 entries, 0 to 296\n",
      "Data columns (total 6 columns):\n",
      " #   Column                   Non-Null Count  Dtype  \n",
      "---  ------                   --------------  -----  \n",
      " 0   DATE                     297 non-null    object \n",
      " 1   TRANSACTION PARTICULARS  297 non-null    object \n",
      " 2   WITHDRWAL                238 non-null    float64\n",
      " 3   DEPOSIT                  59 non-null     float64\n",
      " 4   BALANCE                  297 non-null    float64\n",
      " 5   TRAN ID                  29 non-null     object \n",
      "dtypes: float64(3), object(3)\n",
      "memory usage: 14.0+ KB\n"
     ]
    }
   ],
   "source": [
    "df.info()"
   ]
  },
  {
   "cell_type": "code",
   "execution_count": 36,
   "id": "6de514a2-eb59-4eed-9d5e-fab5fe4742ca",
   "metadata": {},
   "outputs": [],
   "source": [
    "df = df.drop(columns=['TRAN ID'])"
   ]
  },
  {
   "cell_type": "code",
   "execution_count": 37,
   "id": "1a32dede-79f1-4d6c-aacd-f251fb9960ac",
   "metadata": {},
   "outputs": [],
   "source": [
    "#correcting dtype of date\n",
    "df['DATE'] = pd.to_datetime(df['DATE'], format ='%d-%m-%Y')"
   ]
  },
  {
   "cell_type": "code",
   "execution_count": 38,
   "id": "c1f42f18-9203-4da4-8601-f13ff59c950a",
   "metadata": {},
   "outputs": [
    {
     "name": "stdout",
     "output_type": "stream",
     "text": [
      "<class 'pandas.core.frame.DataFrame'>\n",
      "Index: 297 entries, 0 to 296\n",
      "Data columns (total 6 columns):\n",
      " #   Column                   Non-Null Count  Dtype         \n",
      "---  ------                   --------------  -----         \n",
      " 0   DATE                     297 non-null    datetime64[ns]\n",
      " 1   TRANSACTION PARTICULARS  297 non-null    object        \n",
      " 2   WITHDRWAL                297 non-null    float64       \n",
      " 3   DEPOSIT                  297 non-null    float64       \n",
      " 4   BALANCE                  297 non-null    float64       \n",
      " 5   YEAR                     297 non-null    int32         \n",
      "dtypes: datetime64[ns](1), float64(3), int32(1), object(1)\n",
      "memory usage: 15.1+ KB\n"
     ]
    }
   ],
   "source": [
    "df.info()"
   ]
  },
  {
   "cell_type": "code",
   "execution_count": 34,
   "id": "8a7ec472-c948-4a1b-80a8-cb834f37593a",
   "metadata": {},
   "outputs": [
    {
     "data": {
      "text/html": [
       "<div>\n",
       "<style scoped>\n",
       "    .dataframe tbody tr th:only-of-type {\n",
       "        vertical-align: middle;\n",
       "    }\n",
       "\n",
       "    .dataframe tbody tr th {\n",
       "        vertical-align: top;\n",
       "    }\n",
       "\n",
       "    .dataframe thead th {\n",
       "        text-align: right;\n",
       "    }\n",
       "</style>\n",
       "<table border=\"1\" class=\"dataframe\">\n",
       "  <thead>\n",
       "    <tr style=\"text-align: right;\">\n",
       "      <th></th>\n",
       "      <th>DATE</th>\n",
       "      <th>TRANSACTION PARTICULARS</th>\n",
       "      <th>WITHDRWAL</th>\n",
       "      <th>DEPOSIT</th>\n",
       "      <th>BALANCE</th>\n",
       "      <th>TRAN ID</th>\n",
       "      <th>YEAR</th>\n",
       "    </tr>\n",
       "  </thead>\n",
       "  <tbody>\n",
       "    <tr>\n",
       "      <th>0</th>\n",
       "      <td>2021-10-25</td>\n",
       "      <td>Initial Cash Deposit</td>\n",
       "      <td>0.0</td>\n",
       "      <td>100.0</td>\n",
       "      <td>100.00</td>\n",
       "      <td>NaN</td>\n",
       "      <td>2021</td>\n",
       "    </tr>\n",
       "    <tr>\n",
       "      <th>27</th>\n",
       "      <td>2021-12-31</td>\n",
       "      <td>033410154240:Int.Pd:25-10-2021 to 31-12-2021</td>\n",
       "      <td>0.0</td>\n",
       "      <td>3.0</td>\n",
       "      <td>1194.00</td>\n",
       "      <td>NaN</td>\n",
       "      <td>2021</td>\n",
       "    </tr>\n",
       "    <tr>\n",
       "      <th>26</th>\n",
       "      <td>2021-12-28</td>\n",
       "      <td>UPI~136211825882~DR~YASHWANT A~IPOS~Jio Mobility~</td>\n",
       "      <td>15.0</td>\n",
       "      <td>0.0</td>\n",
       "      <td>1191.00</td>\n",
       "      <td>NaN</td>\n",
       "      <td>2021</td>\n",
       "    </tr>\n",
       "    <tr>\n",
       "      <th>25</th>\n",
       "      <td>2021-12-17</td>\n",
       "      <td>APBCR-GEN-Credit Through PFMS-C122127054928</td>\n",
       "      <td>0.0</td>\n",
       "      <td>650.0</td>\n",
       "      <td>1206.00</td>\n",
       "      <td>NaN</td>\n",
       "      <td>2021</td>\n",
       "    </tr>\n",
       "    <tr>\n",
       "      <th>24</th>\n",
       "      <td>2021-12-17</td>\n",
       "      <td>UPI~135140132255~DR~YASHWANT A~IPOS~Jio Mobility~</td>\n",
       "      <td>15.0</td>\n",
       "      <td>0.0</td>\n",
       "      <td>556.00</td>\n",
       "      <td>NaN</td>\n",
       "      <td>2021</td>\n",
       "    </tr>\n",
       "    <tr>\n",
       "      <th>...</th>\n",
       "      <td>...</td>\n",
       "      <td>...</td>\n",
       "      <td>...</td>\n",
       "      <td>...</td>\n",
       "      <td>...</td>\n",
       "      <td>...</td>\n",
       "      <td>...</td>\n",
       "    </tr>\n",
       "    <tr>\n",
       "      <th>258</th>\n",
       "      <td>2024-02-27</td>\n",
       "      <td>UPI~442487276569~DR~YASHWANT A~IPOS~ANANDGANGA...</td>\n",
       "      <td>15.0</td>\n",
       "      <td>0.0</td>\n",
       "      <td>1283.53</td>\n",
       "      <td>NaN</td>\n",
       "      <td>2024</td>\n",
       "    </tr>\n",
       "    <tr>\n",
       "      <th>259</th>\n",
       "      <td>2024-02-27</td>\n",
       "      <td>UPI~442474597690~DR~YASHWANT A~IPOS~Mr  YOGESH...</td>\n",
       "      <td>400.0</td>\n",
       "      <td>0.0</td>\n",
       "      <td>883.53</td>\n",
       "      <td>NaN</td>\n",
       "      <td>2024</td>\n",
       "    </tr>\n",
       "    <tr>\n",
       "      <th>260</th>\n",
       "      <td>2024-02-27</td>\n",
       "      <td>UPI~405848272378~CR~SURAJ VINO~FDRL~7666954654...</td>\n",
       "      <td>0.0</td>\n",
       "      <td>100.0</td>\n",
       "      <td>983.53</td>\n",
       "      <td>NaN</td>\n",
       "      <td>2024</td>\n",
       "    </tr>\n",
       "    <tr>\n",
       "      <th>246</th>\n",
       "      <td>2024-02-05</td>\n",
       "      <td>UPI~403634025978~DR~YASHWANT A~IPOS~Prakash Pu...</td>\n",
       "      <td>390.0</td>\n",
       "      <td>0.0</td>\n",
       "      <td>1556.53</td>\n",
       "      <td>NaN</td>\n",
       "      <td>2024</td>\n",
       "    </tr>\n",
       "    <tr>\n",
       "      <th>296</th>\n",
       "      <td>2024-05-26</td>\n",
       "      <td>UPI~414732254419~DR~YASHWANT A~IPOS~Gaurav Ram...</td>\n",
       "      <td>16.0</td>\n",
       "      <td>0.0</td>\n",
       "      <td>444.53</td>\n",
       "      <td>NaN</td>\n",
       "      <td>2024</td>\n",
       "    </tr>\n",
       "  </tbody>\n",
       "</table>\n",
       "<p>297 rows × 7 columns</p>\n",
       "</div>"
      ],
      "text/plain": [
       "          DATE                            TRANSACTION PARTICULARS  WITHDRWAL  \\\n",
       "0   2021-10-25                               Initial Cash Deposit        0.0   \n",
       "27  2021-12-31       033410154240:Int.Pd:25-10-2021 to 31-12-2021        0.0   \n",
       "26  2021-12-28  UPI~136211825882~DR~YASHWANT A~IPOS~Jio Mobility~       15.0   \n",
       "25  2021-12-17        APBCR-GEN-Credit Through PFMS-C122127054928        0.0   \n",
       "24  2021-12-17  UPI~135140132255~DR~YASHWANT A~IPOS~Jio Mobility~       15.0   \n",
       "..         ...                                                ...        ...   \n",
       "258 2024-02-27  UPI~442487276569~DR~YASHWANT A~IPOS~ANANDGANGA...       15.0   \n",
       "259 2024-02-27  UPI~442474597690~DR~YASHWANT A~IPOS~Mr  YOGESH...      400.0   \n",
       "260 2024-02-27  UPI~405848272378~CR~SURAJ VINO~FDRL~7666954654...        0.0   \n",
       "246 2024-02-05  UPI~403634025978~DR~YASHWANT A~IPOS~Prakash Pu...      390.0   \n",
       "296 2024-05-26  UPI~414732254419~DR~YASHWANT A~IPOS~Gaurav Ram...       16.0   \n",
       "\n",
       "     DEPOSIT  BALANCE TRAN ID  YEAR  \n",
       "0      100.0   100.00     NaN  2021  \n",
       "27       3.0  1194.00     NaN  2021  \n",
       "26       0.0  1191.00     NaN  2021  \n",
       "25     650.0  1206.00     NaN  2021  \n",
       "24       0.0   556.00     NaN  2021  \n",
       "..       ...      ...     ...   ...  \n",
       "258      0.0  1283.53     NaN  2024  \n",
       "259      0.0   883.53     NaN  2024  \n",
       "260    100.0   983.53     NaN  2024  \n",
       "246      0.0  1556.53     NaN  2024  \n",
       "296      0.0   444.53     NaN  2024  \n",
       "\n",
       "[297 rows x 7 columns]"
      ]
     },
     "execution_count": 34,
     "metadata": {},
     "output_type": "execute_result"
    }
   ],
   "source": [
    "#extract year form date column for more conveninent\n",
    "df[\"YEAR\"] = df[\"DATE\"].dt.year\n",
    "df"
   ]
  },
  {
   "cell_type": "code",
   "execution_count": 39,
   "id": "03cbaa13-ab24-44dd-a75f-93223ca70a44",
   "metadata": {},
   "outputs": [
    {
     "data": {
      "text/plain": [
       "DATE                       0\n",
       "TRANSACTION PARTICULARS    0\n",
       "WITHDRWAL                  0\n",
       "DEPOSIT                    0\n",
       "BALANCE                    0\n",
       "YEAR                       0\n",
       "dtype: int64"
      ]
     },
     "execution_count": 39,
     "metadata": {},
     "output_type": "execute_result"
    }
   ],
   "source": [
    "df.isnull().sum()"
   ]
  },
  {
   "cell_type": "code",
   "execution_count": 40,
   "id": "4d8085cd-8213-41ee-b851-5482063d7143",
   "metadata": {},
   "outputs": [],
   "source": [
    "df.fillna({'WITHDRWAL':00.00, 'DEPOSIT':00.00},inplace=True)"
   ]
  },
  {
   "cell_type": "code",
   "execution_count": 41,
   "id": "718e243d-3471-4784-be27-ba7b883a0e94",
   "metadata": {},
   "outputs": [
    {
     "data": {
      "text/html": [
       "<div>\n",
       "<style scoped>\n",
       "    .dataframe tbody tr th:only-of-type {\n",
       "        vertical-align: middle;\n",
       "    }\n",
       "\n",
       "    .dataframe tbody tr th {\n",
       "        vertical-align: top;\n",
       "    }\n",
       "\n",
       "    .dataframe thead th {\n",
       "        text-align: right;\n",
       "    }\n",
       "</style>\n",
       "<table border=\"1\" class=\"dataframe\">\n",
       "  <thead>\n",
       "    <tr style=\"text-align: right;\">\n",
       "      <th></th>\n",
       "      <th>DATE</th>\n",
       "      <th>TRANSACTION PARTICULARS</th>\n",
       "      <th>WITHDRWAL</th>\n",
       "      <th>DEPOSIT</th>\n",
       "      <th>BALANCE</th>\n",
       "      <th>YEAR</th>\n",
       "    </tr>\n",
       "  </thead>\n",
       "  <tbody>\n",
       "    <tr>\n",
       "      <th>0</th>\n",
       "      <td>2021-10-25</td>\n",
       "      <td>Initial Cash Deposit</td>\n",
       "      <td>0.0</td>\n",
       "      <td>100.0</td>\n",
       "      <td>100.0</td>\n",
       "      <td>2021</td>\n",
       "    </tr>\n",
       "    <tr>\n",
       "      <th>27</th>\n",
       "      <td>2021-12-31</td>\n",
       "      <td>033410154240:Int.Pd:25-10-2021 to 31-12-2021</td>\n",
       "      <td>0.0</td>\n",
       "      <td>3.0</td>\n",
       "      <td>1194.0</td>\n",
       "      <td>2021</td>\n",
       "    </tr>\n",
       "    <tr>\n",
       "      <th>26</th>\n",
       "      <td>2021-12-28</td>\n",
       "      <td>UPI~136211825882~DR~YASHWANT A~IPOS~Jio Mobility~</td>\n",
       "      <td>15.0</td>\n",
       "      <td>0.0</td>\n",
       "      <td>1191.0</td>\n",
       "      <td>2021</td>\n",
       "    </tr>\n",
       "    <tr>\n",
       "      <th>25</th>\n",
       "      <td>2021-12-17</td>\n",
       "      <td>APBCR-GEN-Credit Through PFMS-C122127054928</td>\n",
       "      <td>0.0</td>\n",
       "      <td>650.0</td>\n",
       "      <td>1206.0</td>\n",
       "      <td>2021</td>\n",
       "    </tr>\n",
       "    <tr>\n",
       "      <th>24</th>\n",
       "      <td>2021-12-17</td>\n",
       "      <td>UPI~135140132255~DR~YASHWANT A~IPOS~Jio Mobility~</td>\n",
       "      <td>15.0</td>\n",
       "      <td>0.0</td>\n",
       "      <td>556.0</td>\n",
       "      <td>2021</td>\n",
       "    </tr>\n",
       "    <tr>\n",
       "      <th>23</th>\n",
       "      <td>2021-12-16</td>\n",
       "      <td>UPI~135024188218~DR~YASHWANT A~IPOS~Gaurav Gas...</td>\n",
       "      <td>952.0</td>\n",
       "      <td>0.0</td>\n",
       "      <td>571.0</td>\n",
       "      <td>2021</td>\n",
       "    </tr>\n",
       "    <tr>\n",
       "      <th>21</th>\n",
       "      <td>2021-12-13</td>\n",
       "      <td>UPI~134786344106~DR~YASHWANT A~IPOS~YUNIS NATT...</td>\n",
       "      <td>40.0</td>\n",
       "      <td>0.0</td>\n",
       "      <td>523.0</td>\n",
       "      <td>2021</td>\n",
       "    </tr>\n",
       "    <tr>\n",
       "      <th>20</th>\n",
       "      <td>2021-12-13</td>\n",
       "      <td>UPI~134785439163~DR~YASHWANT A~IPOS~yashwante1...</td>\n",
       "      <td>14.0</td>\n",
       "      <td>0.0</td>\n",
       "      <td>563.0</td>\n",
       "      <td>2021</td>\n",
       "    </tr>\n",
       "    <tr>\n",
       "      <th>19</th>\n",
       "      <td>2021-12-13</td>\n",
       "      <td>UPI~134782027282~DR~YASHWANT A~IPOS~HALDIRAM FOOD</td>\n",
       "      <td>26.0</td>\n",
       "      <td>0.0</td>\n",
       "      <td>577.0</td>\n",
       "      <td>2021</td>\n",
       "    </tr>\n",
       "    <tr>\n",
       "      <th>18</th>\n",
       "      <td>2021-11-29</td>\n",
       "      <td>UPI~133360935094~DR~YASHWANT A~IPOS~yashwante1...</td>\n",
       "      <td>4999.0</td>\n",
       "      <td>0.0</td>\n",
       "      <td>603.0</td>\n",
       "      <td>2021</td>\n",
       "    </tr>\n",
       "    <tr>\n",
       "      <th>17</th>\n",
       "      <td>2021-11-28</td>\n",
       "      <td>UPI~133254025122~DR~YASHWANT A~IPOS~GRO SUPERB...</td>\n",
       "      <td>120.0</td>\n",
       "      <td>0.0</td>\n",
       "      <td>5602.0</td>\n",
       "      <td>2021</td>\n",
       "    </tr>\n",
       "    <tr>\n",
       "      <th>16</th>\n",
       "      <td>2021-11-28</td>\n",
       "      <td>UPI~133271967873~CR~ANKUSH P L~IOBA~8805765082...</td>\n",
       "      <td>0.0</td>\n",
       "      <td>5000.0</td>\n",
       "      <td>5722.0</td>\n",
       "      <td>2021</td>\n",
       "    </tr>\n",
       "  </tbody>\n",
       "</table>\n",
       "</div>"
      ],
      "text/plain": [
       "         DATE                            TRANSACTION PARTICULARS  WITHDRWAL  \\\n",
       "0  2021-10-25                               Initial Cash Deposit        0.0   \n",
       "27 2021-12-31       033410154240:Int.Pd:25-10-2021 to 31-12-2021        0.0   \n",
       "26 2021-12-28  UPI~136211825882~DR~YASHWANT A~IPOS~Jio Mobility~       15.0   \n",
       "25 2021-12-17        APBCR-GEN-Credit Through PFMS-C122127054928        0.0   \n",
       "24 2021-12-17  UPI~135140132255~DR~YASHWANT A~IPOS~Jio Mobility~       15.0   \n",
       "23 2021-12-16  UPI~135024188218~DR~YASHWANT A~IPOS~Gaurav Gas...      952.0   \n",
       "21 2021-12-13  UPI~134786344106~DR~YASHWANT A~IPOS~YUNIS NATT...       40.0   \n",
       "20 2021-12-13  UPI~134785439163~DR~YASHWANT A~IPOS~yashwante1...       14.0   \n",
       "19 2021-12-13  UPI~134782027282~DR~YASHWANT A~IPOS~HALDIRAM FOOD       26.0   \n",
       "18 2021-11-29  UPI~133360935094~DR~YASHWANT A~IPOS~yashwante1...     4999.0   \n",
       "17 2021-11-28  UPI~133254025122~DR~YASHWANT A~IPOS~GRO SUPERB...      120.0   \n",
       "16 2021-11-28  UPI~133271967873~CR~ANKUSH P L~IOBA~8805765082...        0.0   \n",
       "\n",
       "    DEPOSIT  BALANCE  YEAR  \n",
       "0     100.0    100.0  2021  \n",
       "27      3.0   1194.0  2021  \n",
       "26      0.0   1191.0  2021  \n",
       "25    650.0   1206.0  2021  \n",
       "24      0.0    556.0  2021  \n",
       "23      0.0    571.0  2021  \n",
       "21      0.0    523.0  2021  \n",
       "20      0.0    563.0  2021  \n",
       "19      0.0    577.0  2021  \n",
       "18      0.0    603.0  2021  \n",
       "17      0.0   5602.0  2021  \n",
       "16   5000.0   5722.0  2021  "
      ]
     },
     "execution_count": 41,
     "metadata": {},
     "output_type": "execute_result"
    }
   ],
   "source": [
    "df.head(12)"
   ]
  },
  {
   "cell_type": "code",
   "execution_count": 42,
   "id": "040f5201-6171-434e-91a4-aafa9e13afd2",
   "metadata": {},
   "outputs": [
    {
     "data": {
      "text/plain": [
       "Index(['DATE', 'TRANSACTION PARTICULARS', 'WITHDRWAL', 'DEPOSIT', 'BALANCE',\n",
       "       'YEAR'],\n",
       "      dtype='object')"
      ]
     },
     "execution_count": 42,
     "metadata": {},
     "output_type": "execute_result"
    }
   ],
   "source": [
    "df.columns"
   ]
  },
  {
   "cell_type": "code",
   "execution_count": 43,
   "id": "86f425fd-2c02-49cd-8942-1f11168fc9ec",
   "metadata": {},
   "outputs": [
    {
     "data": {
      "text/plain": [
       "0"
      ]
     },
     "execution_count": 43,
     "metadata": {},
     "output_type": "execute_result"
    }
   ],
   "source": [
    "df.duplicated().sum() "
   ]
  },
  {
   "cell_type": "code",
   "execution_count": 44,
   "id": "8918c502-1714-45cd-ba13-0b873fc5d9ce",
   "metadata": {},
   "outputs": [
    {
     "data": {
      "text/html": [
       "<div>\n",
       "<style scoped>\n",
       "    .dataframe tbody tr th:only-of-type {\n",
       "        vertical-align: middle;\n",
       "    }\n",
       "\n",
       "    .dataframe tbody tr th {\n",
       "        vertical-align: top;\n",
       "    }\n",
       "\n",
       "    .dataframe thead th {\n",
       "        text-align: right;\n",
       "    }\n",
       "</style>\n",
       "<table border=\"1\" class=\"dataframe\">\n",
       "  <thead>\n",
       "    <tr style=\"text-align: right;\">\n",
       "      <th></th>\n",
       "      <th>DATE</th>\n",
       "      <th>WITHDRWAL</th>\n",
       "      <th>DEPOSIT</th>\n",
       "      <th>BALANCE</th>\n",
       "      <th>YEAR</th>\n",
       "    </tr>\n",
       "  </thead>\n",
       "  <tbody>\n",
       "    <tr>\n",
       "      <th>count</th>\n",
       "      <td>297</td>\n",
       "      <td>297.000000</td>\n",
       "      <td>297.000000</td>\n",
       "      <td>297.000000</td>\n",
       "      <td>297.000000</td>\n",
       "    </tr>\n",
       "    <tr>\n",
       "      <th>mean</th>\n",
       "      <td>2023-04-23 15:35:45.454545408</td>\n",
       "      <td>90.314714</td>\n",
       "      <td>92.070707</td>\n",
       "      <td>1535.825387</td>\n",
       "      <td>2022.781145</td>\n",
       "    </tr>\n",
       "    <tr>\n",
       "      <th>min</th>\n",
       "      <td>2021-10-25 00:00:00</td>\n",
       "      <td>0.000000</td>\n",
       "      <td>0.000000</td>\n",
       "      <td>12.530000</td>\n",
       "      <td>2021.000000</td>\n",
       "    </tr>\n",
       "    <tr>\n",
       "      <th>25%</th>\n",
       "      <td>2022-08-29 00:00:00</td>\n",
       "      <td>10.000000</td>\n",
       "      <td>0.000000</td>\n",
       "      <td>475.530000</td>\n",
       "      <td>2022.000000</td>\n",
       "    </tr>\n",
       "    <tr>\n",
       "      <th>50%</th>\n",
       "      <td>2023-08-04 00:00:00</td>\n",
       "      <td>15.000000</td>\n",
       "      <td>0.000000</td>\n",
       "      <td>1143.030000</td>\n",
       "      <td>2023.000000</td>\n",
       "    </tr>\n",
       "    <tr>\n",
       "      <th>75%</th>\n",
       "      <td>2023-11-13 00:00:00</td>\n",
       "      <td>26.000000</td>\n",
       "      <td>0.000000</td>\n",
       "      <td>2454.530000</td>\n",
       "      <td>2023.000000</td>\n",
       "    </tr>\n",
       "    <tr>\n",
       "      <th>max</th>\n",
       "      <td>2024-05-26 00:00:00</td>\n",
       "      <td>7000.000000</td>\n",
       "      <td>7000.000000</td>\n",
       "      <td>8143.030000</td>\n",
       "      <td>2024.000000</td>\n",
       "    </tr>\n",
       "    <tr>\n",
       "      <th>std</th>\n",
       "      <td>NaN</td>\n",
       "      <td>516.474469</td>\n",
       "      <td>550.211971</td>\n",
       "      <td>1321.828787</td>\n",
       "      <td>0.898148</td>\n",
       "    </tr>\n",
       "  </tbody>\n",
       "</table>\n",
       "</div>"
      ],
      "text/plain": [
       "                                DATE    WITHDRWAL      DEPOSIT      BALANCE  \\\n",
       "count                            297   297.000000   297.000000   297.000000   \n",
       "mean   2023-04-23 15:35:45.454545408    90.314714    92.070707  1535.825387   \n",
       "min              2021-10-25 00:00:00     0.000000     0.000000    12.530000   \n",
       "25%              2022-08-29 00:00:00    10.000000     0.000000   475.530000   \n",
       "50%              2023-08-04 00:00:00    15.000000     0.000000  1143.030000   \n",
       "75%              2023-11-13 00:00:00    26.000000     0.000000  2454.530000   \n",
       "max              2024-05-26 00:00:00  7000.000000  7000.000000  8143.030000   \n",
       "std                              NaN   516.474469   550.211971  1321.828787   \n",
       "\n",
       "              YEAR  \n",
       "count   297.000000  \n",
       "mean   2022.781145  \n",
       "min    2021.000000  \n",
       "25%    2022.000000  \n",
       "50%    2023.000000  \n",
       "75%    2023.000000  \n",
       "max    2024.000000  \n",
       "std       0.898148  "
      ]
     },
     "execution_count": 44,
     "metadata": {},
     "output_type": "execute_result"
    }
   ],
   "source": [
    "df.describe()"
   ]
  },
  {
   "cell_type": "code",
   "execution_count": 45,
   "id": "63898d57-121c-4e19-82fa-7cd35b4525aa",
   "metadata": {},
   "outputs": [],
   "source": [
    "df.sort_values(by = ['YEAR'], inplace = True)  # for sort year from start to end"
   ]
  },
  {
   "cell_type": "code",
   "execution_count": 46,
   "id": "a4edef67-7f39-4c55-89a0-9f84b335b3e1",
   "metadata": {},
   "outputs": [
    {
     "data": {
      "text/html": [
       "<div>\n",
       "<style scoped>\n",
       "    .dataframe tbody tr th:only-of-type {\n",
       "        vertical-align: middle;\n",
       "    }\n",
       "\n",
       "    .dataframe tbody tr th {\n",
       "        vertical-align: top;\n",
       "    }\n",
       "\n",
       "    .dataframe thead th {\n",
       "        text-align: right;\n",
       "    }\n",
       "</style>\n",
       "<table border=\"1\" class=\"dataframe\">\n",
       "  <thead>\n",
       "    <tr style=\"text-align: right;\">\n",
       "      <th></th>\n",
       "      <th>DATE</th>\n",
       "      <th>TRANSACTION PARTICULARS</th>\n",
       "      <th>WITHDRWAL</th>\n",
       "      <th>DEPOSIT</th>\n",
       "      <th>BALANCE</th>\n",
       "      <th>YEAR</th>\n",
       "    </tr>\n",
       "  </thead>\n",
       "  <tbody>\n",
       "    <tr>\n",
       "      <th>0</th>\n",
       "      <td>2021-10-25</td>\n",
       "      <td>Initial Cash Deposit</td>\n",
       "      <td>0.0</td>\n",
       "      <td>100.0</td>\n",
       "      <td>100.00</td>\n",
       "      <td>2021</td>\n",
       "    </tr>\n",
       "    <tr>\n",
       "      <th>6</th>\n",
       "      <td>2021-11-06</td>\n",
       "      <td>UPI~131067238306~CR~OM SUNIL I~IPOS~8806393517...</td>\n",
       "      <td>0.0</td>\n",
       "      <td>1.0</td>\n",
       "      <td>100.00</td>\n",
       "      <td>2021</td>\n",
       "    </tr>\n",
       "    <tr>\n",
       "      <th>11</th>\n",
       "      <td>2021-11-18</td>\n",
       "      <td>UPI~132221200411~DR~YASHWANT A~IPOS~billdesktez~</td>\n",
       "      <td>599.0</td>\n",
       "      <td>0.0</td>\n",
       "      <td>752.00</td>\n",
       "      <td>2021</td>\n",
       "    </tr>\n",
       "    <tr>\n",
       "      <th>10</th>\n",
       "      <td>2021-11-18</td>\n",
       "      <td>UPI~132258795416~CR~ANKUSH PAN~BKID~8805765082...</td>\n",
       "      <td>0.0</td>\n",
       "      <td>600.0</td>\n",
       "      <td>1351.00</td>\n",
       "      <td>2021</td>\n",
       "    </tr>\n",
       "    <tr>\n",
       "      <th>9</th>\n",
       "      <td>2021-11-09</td>\n",
       "      <td>APBCR-GEN-Credit Through PFMS-C112108436067</td>\n",
       "      <td>0.0</td>\n",
       "      <td>650.0</td>\n",
       "      <td>751.00</td>\n",
       "      <td>2021</td>\n",
       "    </tr>\n",
       "    <tr>\n",
       "      <th>...</th>\n",
       "      <td>...</td>\n",
       "      <td>...</td>\n",
       "      <td>...</td>\n",
       "      <td>...</td>\n",
       "      <td>...</td>\n",
       "      <td>...</td>\n",
       "    </tr>\n",
       "    <tr>\n",
       "      <th>292</th>\n",
       "      <td>2024-05-21</td>\n",
       "      <td>UPI~414206530348~DR~YASHWANT A~IPOS~Gaurav pan...</td>\n",
       "      <td>16.0</td>\n",
       "      <td>0.0</td>\n",
       "      <td>524.53</td>\n",
       "      <td>2024</td>\n",
       "    </tr>\n",
       "    <tr>\n",
       "      <th>264</th>\n",
       "      <td>2024-02-29</td>\n",
       "      <td>UPI~442673264015~DR~YASHWANT A~IPOS~Anand Auto...</td>\n",
       "      <td>27.0</td>\n",
       "      <td>0.0</td>\n",
       "      <td>771.53</td>\n",
       "      <td>2024</td>\n",
       "    </tr>\n",
       "    <tr>\n",
       "      <th>294</th>\n",
       "      <td>2024-05-24</td>\n",
       "      <td>UPI~414599574733~DR~YASHWANT A~IPOS~Mr  DINESH...</td>\n",
       "      <td>30.0</td>\n",
       "      <td>0.0</td>\n",
       "      <td>475.53</td>\n",
       "      <td>2024</td>\n",
       "    </tr>\n",
       "    <tr>\n",
       "      <th>293</th>\n",
       "      <td>2024-05-22</td>\n",
       "      <td>UPI~450973141313~DR~YASHWANT A~IPOS~Mrs  TARA ...</td>\n",
       "      <td>19.0</td>\n",
       "      <td>0.0</td>\n",
       "      <td>505.53</td>\n",
       "      <td>2024</td>\n",
       "    </tr>\n",
       "    <tr>\n",
       "      <th>296</th>\n",
       "      <td>2024-05-26</td>\n",
       "      <td>UPI~414732254419~DR~YASHWANT A~IPOS~Gaurav Ram...</td>\n",
       "      <td>16.0</td>\n",
       "      <td>0.0</td>\n",
       "      <td>444.53</td>\n",
       "      <td>2024</td>\n",
       "    </tr>\n",
       "  </tbody>\n",
       "</table>\n",
       "<p>297 rows × 6 columns</p>\n",
       "</div>"
      ],
      "text/plain": [
       "          DATE                            TRANSACTION PARTICULARS  WITHDRWAL  \\\n",
       "0   2021-10-25                               Initial Cash Deposit        0.0   \n",
       "6   2021-11-06  UPI~131067238306~CR~OM SUNIL I~IPOS~8806393517...        0.0   \n",
       "11  2021-11-18   UPI~132221200411~DR~YASHWANT A~IPOS~billdesktez~      599.0   \n",
       "10  2021-11-18  UPI~132258795416~CR~ANKUSH PAN~BKID~8805765082...        0.0   \n",
       "9   2021-11-09        APBCR-GEN-Credit Through PFMS-C112108436067        0.0   \n",
       "..         ...                                                ...        ...   \n",
       "292 2024-05-21  UPI~414206530348~DR~YASHWANT A~IPOS~Gaurav pan...       16.0   \n",
       "264 2024-02-29  UPI~442673264015~DR~YASHWANT A~IPOS~Anand Auto...       27.0   \n",
       "294 2024-05-24  UPI~414599574733~DR~YASHWANT A~IPOS~Mr  DINESH...       30.0   \n",
       "293 2024-05-22  UPI~450973141313~DR~YASHWANT A~IPOS~Mrs  TARA ...       19.0   \n",
       "296 2024-05-26  UPI~414732254419~DR~YASHWANT A~IPOS~Gaurav Ram...       16.0   \n",
       "\n",
       "     DEPOSIT  BALANCE  YEAR  \n",
       "0      100.0   100.00  2021  \n",
       "6        1.0   100.00  2021  \n",
       "11       0.0   752.00  2021  \n",
       "10     600.0  1351.00  2021  \n",
       "9      650.0   751.00  2021  \n",
       "..       ...      ...   ...  \n",
       "292      0.0   524.53  2024  \n",
       "264      0.0   771.53  2024  \n",
       "294      0.0   475.53  2024  \n",
       "293      0.0   505.53  2024  \n",
       "296      0.0   444.53  2024  \n",
       "\n",
       "[297 rows x 6 columns]"
      ]
     },
     "execution_count": 46,
     "metadata": {},
     "output_type": "execute_result"
    }
   ],
   "source": [
    "df"
   ]
  },
  {
   "cell_type": "code",
   "execution_count": 47,
   "id": "d662997f-2ac5-4341-ab3b-51a4d1bd54c0",
   "metadata": {},
   "outputs": [],
   "source": [
    "df.to_csv('bank.csv',index = False)  # for downlode our cleaned data its optional."
   ]
  },
  {
   "cell_type": "markdown",
   "id": "a4343059-fd26-4b31-8062-dfd583daedcc",
   "metadata": {},
   "source": [
    "## Exploratory Data Analysis"
   ]
  },
  {
   "cell_type": "code",
   "execution_count": 48,
   "id": "d04b8534-8c36-44c2-9f8f-e5f927f21653",
   "metadata": {},
   "outputs": [
    {
     "data": {
      "text/plain": [
       "Index(['DATE', 'TRANSACTION PARTICULARS', 'WITHDRWAL', 'DEPOSIT', 'BALANCE',\n",
       "       'YEAR'],\n",
       "      dtype='object')"
      ]
     },
     "execution_count": 48,
     "metadata": {},
     "output_type": "execute_result"
    }
   ],
   "source": [
    "df.columns"
   ]
  },
  {
   "cell_type": "code",
   "execution_count": 49,
   "id": "711ac3b3-f3ab-4a7d-b6c5-f36e5150c056",
   "metadata": {},
   "outputs": [
    {
     "data": {
      "image/png": "[encoded data removed]",
      "text/plain": [
       "<Figure size 640x480 with 1 Axes>"
      ]
     },
     "metadata": {},
     "output_type": "display_data"
    }
   ],
   "source": [
    "# top 3 highest withdrwal \n",
    "s_date = df.groupby(['DATE'], as_index=False)['WITHDRWAL'].sum().sort_values(by='WITHDRWAL', ascending=False).head(3)\n",
    "\n",
    "sns.barplot(data = s_date, x = 'DATE', y = 'WITHDRWAL')\n",
    " \n",
    "# Show the plot\n",
    "plt.show()"
   ]
  },
  {
   "cell_type": "markdown",
   "id": "3929d613-d8a6-4ab6-9ca7-1f15d3044464",
   "metadata": {},
   "source": [
    "Between the 25-10-2021 to 25-05-2024 \n",
    "\n",
    "highest withdrwal is 7000rs on 04-09-2022"
   ]
  },
  {
   "cell_type": "code",
   "execution_count": 50,
   "id": "ac54c740-3b3f-467a-bcdf-dce016aaa71d",
   "metadata": {},
   "outputs": [
    {
     "data": {
      "image/png": "[encoded data removed]",
      "text/plain": [
       "<Figure size 640x480 with 1 Axes>"
      ]
     },
     "metadata": {},
     "output_type": "display_data"
    }
   ],
   "source": [
    "s_date = df.groupby(['DATE'], as_index = False)['DEPOSIT'].sum().sort_values(by='DEPOSIT', ascending=False).head(3) \n",
    "\n",
    "sns.barplot(data= s_date, x= 'DATE', y= 'DEPOSIT')\n",
    "\n",
    "plt.show()"
   ]
  },
  {
   "cell_type": "markdown",
   "id": "2595f3b6-655f-4080-b49e-dbf9b0258c65",
   "metadata": {},
   "source": [
    "Between the 25-10-2021 to 25-05-2024 highest deposit is 7000rs on 03-09-2022  \n",
    "\n",
    "and 2nd is 5000rs on 28-11-2021"
   ]
  },
  {
   "cell_type": "code",
   "execution_count": 51,
   "id": "2f445208-b07c-4f0c-86a2-1d5202d30f1b",
   "metadata": {},
   "outputs": [
    {
     "data": {
      "image/png": "[encoded data removed]",
      "text/plain": [
       "<Figure size 2000x500 with 1 Axes>"
      ]
     },
     "metadata": {},
     "output_type": "display_data"
    }
   ],
   "source": [
    "plt.figure(figsize=(20,5))\n",
    "\n",
    "s_date = df.groupby(['TRANSACTION PARTICULARS'], as_index = False)['DEPOSIT'].sum().sort_values(by='DEPOSIT', ascending=False).head(3) \n",
    "\n",
    "sns.barplot(data= s_date, x= 'TRANSACTION PARTICULARS', y= 'DEPOSIT')\n",
    "\n",
    "plt.show()"
   ]
  },
  {
   "cell_type": "markdown",
   "id": "390c406d-f569-4e93-9840-c31dafce65b5",
   "metadata": {},
   "source": [
    "we observed that from TRANSACTION PARTICULARS 'AYUSH-KHEM-KKBK- ayushrramtek2@' we got more deposit\n",
    "\n",
    "and 2nd highest deposit is from ANKUSH P L which 5000rs"
   ]
  },
  {
   "cell_type": "code",
   "execution_count": 52,
   "id": "c37b9def-ac77-4b92-bdce-27453af8132e",
   "metadata": {},
   "outputs": [
    {
     "data": {
      "text/plain": [
       "<Axes: xlabel='YEAR', ylabel='count'>"
      ]
     },
     "execution_count": 52,
     "metadata": {},
     "output_type": "execute_result"
    },
    {
     "data": {
      "image/png": "[encoded data removed]",
      "text/plain": [
       "<Figure size 1100x500 with 1 Axes>"
      ]
     },
     "metadata": {},
     "output_type": "display_data"
    }
   ],
   "source": [
    "plt.figure(figsize=(11,5))\n",
    "sns.countplot(df,x = df['YEAR'])"
   ]
  },
  {
   "cell_type": "markdown",
   "id": "77463dc2-6b68-4273-909f-407537f7bd1d",
   "metadata": {},
   "source": [
    "From above chart we can say that year 2023 has highest transaction."
   ]
  },
  {
   "cell_type": "code",
   "execution_count": 53,
   "id": "214fa2f9-9c41-44fa-8f08-1d70658905b8",
   "metadata": {},
   "outputs": [
    {
     "data": {
      "image/png": "[encoded data removed]",
      "text/plain": [
       "<Figure size 640x480 with 1 Axes>"
      ]
     },
     "metadata": {},
     "output_type": "display_data"
    }
   ],
   "source": [
    "#s_m = df.groupby(['WITHDRWAL','DEPOSIT'], as index = False)['YEAR']\n",
    "ax=sns.barplot(df,x= df['YEAR'], y= df['WITHDRWAL'])\n",
    "for bars in ax.containers:\n",
    "    ax.bar_label(bars)"
   ]
  },
  {
   "cell_type": "markdown",
   "id": "5c1c2caa-e071-44fd-883c-db121a772000",
   "metadata": {},
   "source": [
    "from above chart we can say that the count of withdrwal is more in the 2021."
   ]
  },
  {
   "cell_type": "code",
   "execution_count": 54,
   "id": "6b7a0826-b398-49e3-8158-73e6046159d1",
   "metadata": {},
   "outputs": [
    {
     "data": {
      "image/png": "[encoded data removed]",
      "text/plain": [
       "<Figure size 1000x500 with 1 Axes>"
      ]
     },
     "metadata": {},
     "output_type": "display_data"
    }
   ],
   "source": [
    "plt.figure(figsize=(10,5))\n",
    "sns.distplot(df,x = df['BALANCE'], bins = 15)\n",
    "plt.title(\"BALANCE\")\n",
    "plt.xlabel(\"BALANCE\")\n",
    "plt.show()"
   ]
  },
  {
   "cell_type": "markdown",
   "id": "8da4eea8-739e-481d-b290-1935ede005e7",
   "metadata": {},
   "source": [
    "maximum range of balance in our account is between 0 to 4000rs."
   ]
  },
  {
   "cell_type": "code",
   "execution_count": null,
   "id": "4af35cca-f408-4dc9-8c05-c3a41c674f77",
   "metadata": {},
   "outputs": [],
   "source": []
  }
 ],
 "metadata": {
  "kernelspec": {
   "display_name": "Python 3 (ipykernel)",
   "language": "python",
   "name": "python3"
  },
  "language_info": {
   "codemirror_mode": {
    "name": "ipython",
    "version": 3
   },
   "file_extension": ".py",
   "mimetype": "text/x-python",
   "name": "python",
   "nbconvert_exporter": "python",
   "pygments_lexer": "ipython3",
   "version": "3.10.1"
  }
 },
 "nbformat": 4,
 "nbformat_minor": 5
}
